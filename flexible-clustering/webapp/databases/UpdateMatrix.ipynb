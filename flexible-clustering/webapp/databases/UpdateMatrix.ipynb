{
 "cells": [
  {
   "cell_type": "markdown",
   "id": "af664c99",
   "metadata": {},
   "source": [
    "# Updating Similarity Matrix\n",
    "\n",
    "Everytime the UpdatedCommandDB is changed, run this code to udpate the SimMatrix accordingly."
   ]
  },
  {
   "cell_type": "code",
   "execution_count": 1,
   "id": "5f81b920",
   "metadata": {},
   "outputs": [],
   "source": [
    "import pandas as pd\n",
    "from sklearn.feature_extraction.text import TfidfVectorizer\n",
    "from sklearn.metrics.pairwise import cosine_similarity\n",
    "pd.set_option(\"display.max_rows\", None)\n",
    "pd.set_option(\"display.max_columns\", None)\n",
    "pd.set_option('display.max_colwidth', None)\n",
    "\n",
    "# Load your table\n",
    "df = pd.read_csv('UpdatedCommandDB.csv')\n",
    "\n",
    "# Combine relevant text fields\n",
    "df['combined_description'] = (\n",
    "    (df['simplified_purpose'].fillna(''))+ ' ' +\n",
    "    (df['flag_description'].fillna(''))\n",
    ")\n",
    "\n",
    "# TF-IDF Vectorization\n",
    "vectorizer = TfidfVectorizer(stop_words='english')\n",
    "tfidf_matrix = vectorizer.fit_transform(df['combined_description'].values)\n",
    "\n",
    "# Cosine similarity\n",
    "cosine_sim_matrix = cosine_similarity(tfidf_matrix)\n",
    "\n",
    "# Create a labeled DataFrame for easy interpretation\n",
    "similarity_df = pd.DataFrame(\n",
    "    cosine_sim_matrix,\n",
    "    index=df['label'],\n",
    "    columns=df['label']\n",
    ")\n",
    "# # Optional: Save or explore\n",
    "similarity_df.to_csv(\"UpdatedSimilarity.csv\")"
   ]
  }
 ],
 "metadata": {
  "kernelspec": {
   "display_name": ".venv",
   "language": "python",
   "name": "python3"
  },
  "language_info": {
   "codemirror_mode": {
    "name": "ipython",
    "version": 3
   },
   "file_extension": ".py",
   "mimetype": "text/x-python",
   "name": "python",
   "nbconvert_exporter": "python",
   "pygments_lexer": "ipython3",
   "version": "3.10.12"
  }
 },
 "nbformat": 4,
 "nbformat_minor": 5
}
