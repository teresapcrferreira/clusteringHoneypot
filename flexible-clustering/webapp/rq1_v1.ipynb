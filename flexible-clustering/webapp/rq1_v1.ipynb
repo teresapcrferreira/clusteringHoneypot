{
 "cells": [
  {
   "cell_type": "markdown",
   "id": "d712d3a2",
   "metadata": {},
   "source": [
    "# RQ1 Evaluation Notebook\n",
    "\n",
    "Internal clustering metrics (silhouette, tree‐structure, entropy) using:\n",
    "- Semantic similarity (precomputed matrix)\n",
    "- Baseline (Levenshtein)"
   ]
  },
  {
   "cell_type": "code",
   "execution_count": 1,
   "id": "475c110c",
   "metadata": {},
   "outputs": [
    {
     "name": "stdout",
     "output_type": "stream",
     "text": [
      "PYTHONPATH[0] = /home/tferreira/Documents/Clustering/flexible-clustering/webapp/webapp\n"
     ]
    }
   ],
   "source": [
    "# 1) Setup path to include webapp/\n",
    "import sys, os\n",
    "project_root = os.getcwd()\n",
    "sys.path.insert(0, os.path.join(project_root, 'webapp'))\n",
    "print('PYTHONPATH[0] =', sys.path[0])"
   ]
  },
  {
   "cell_type": "code",
   "execution_count": 9,
   "id": "c20b1e38",
   "metadata": {},
   "outputs": [],
   "source": [
    "# 2) Imports\n",
    "from clustering.clustering_algorithms import run_clustering, filtered_commands_global,fetch_cowrie_data\n",
    "from clustering.preprocessing import abstract_command_line_substitution, is_real_command\n",
    "from clustering.similarity import distance_func\n",
    "from clustering.evaluation_metrics import (evaluate_clustering, extract_labels_from_tree, compute_tree_metrics, compute_purpose_entropy)\n",
    "import pandas as pd, numpy as np"
   ]
  },
  {
   "cell_type": "code",
   "execution_count": 4,
   "id": "425c7516",
   "metadata": {},
   "outputs": [
    {
     "name": "stdout",
     "output_type": "stream",
     "text": [
      "Clustered 0 commands into 15 cluster entries.\n"
     ]
    }
   ],
   "source": [
    "# 3) Run clustering on sample\n",
    "cluster_results, cluster_tree = run_clustering(size=10000)  # adjust for speed"
   ]
  },
  {
   "cell_type": "code",
   "execution_count": 10,
   "id": "ffc92140-96ce-4a02-8b33-dad32a99adab",
   "metadata": {},
   "outputs": [],
   "source": [
    "df = fetch_cowrie_data(honeypot_type=\"cowrie\", from_date=\"2021-04-08T00:00:00.000Z\", to_date=\"2025-04-08T00:00:00.000Z\", size=10000)\n",
    "df = df[df['input'].notna()]\n",
    "commands = df['input'].values\n",
    "filtered_commands = [(i, cmd) for i, cmd in enumerate(commands) if is_real_command(cmd)]\n",
    "abstracts = [abstract_command_line_substitution(cmd) for _, cmd in filtered_commands]"
   ]
  },
  {
   "cell_type": "code",
   "execution_count": 11,
   "id": "8c04b3b3-f7d0-4e98-bd96-3041a5ca3f43",
   "metadata": {},
   "outputs": [
    {
     "name": "stdout",
     "output_type": "stream",
     "text": [
      "Clustered 9875 commands into 15 cluster entries.\n"
     ]
    }
   ],
   "source": [
    "print(f'Clustered {len(abstracts)} commands into {len(cluster_results)} cluster entries.')"
   ]
  },
  {
   "cell_type": "markdown",
   "id": "7a7f28fc",
   "metadata": {},
   "source": [
    "---\n",
    "## A) Semantic distance via matrix"
   ]
  },
  {
   "cell_type": "code",
   "execution_count": null,
   "id": "e16da6fa",
   "metadata": {},
   "outputs": [],
   "source": [
    "import pandas as pd\n",
    "import numpy as np\n",
    "from sklearn.metrics import silhouette_score\n",
    "from clustering.evaluation_metrics import extract_labels_from_tree, compute_tree_metrics, compute_purpose_entropy\n",
    "\n",
    "# # 1) Load your precomputed similarity matrix\n",
    "# #    (adjust path if needed)\n",
    "sim_df = pd.read_csv(\"databases/UpdatedSimilarity.csv\", index_col=0)\n",
    "dist_mat = 1-sim_df.values\n",
    "\n",
    "# # 3) Build the distance matrix: distance = 1 − similarity\n",
    "# dist_mat = 1.0 - sim_df.values\n",
    "# print(\"Distance matrix shape:\", dist_mat.shape)"
   ]
  },
  {
   "cell_type": "code",
   "execution_count": null,
   "id": "0a37ae75",
   "metadata": {},
   "outputs": [],
   "source": [
    "# Other metrics\n",
    "tree_metrics = compute_tree_metrics(cluster_tree)\n",
    "entropy_metrics = compute_purpose_entropy(cluster_results)\n",
    "print('Tree metrics:', tree_metrics)\n",
    "print('Entropy metrics:', entropy_metrics)"
   ]
  },
  {
   "cell_type": "markdown",
   "id": "7429b326",
   "metadata": {},
   "source": [
    "---\n",
    "## B) Using evaluate_clustering + dist_func"
   ]
  },
  {
   "cell_type": "code",
   "execution_count": null,
   "id": "b945d5e5",
   "metadata": {},
   "outputs": [],
   "source": [
    "# Define dist_func from sim_df\n",
    "def matrix_dist(a, b): return 1.0 - sim_df.at[a, b]\n",
    "full_sem = evaluate_clustering(abstracts, cluster_results, cluster_tree, matrix_dist)\n",
    "print('Full semantic metrics:')\n",
    "print(pd.Series(full_sem))"
   ]
  },
  {
   "cell_type": "code",
   "execution_count": null,
   "id": "b45243c8",
   "metadata": {},
   "outputs": [],
   "source": [
    "# Baseline Levenshtein\n",
    "!pip install python-Levenshtein\n",
    "from Levenshtein import distance as lev_dist\n",
    "def baseline(a,b): return lev_dist(a,b)/max(len(a),len(b),1)\n",
    "baseline_metrics = evaluate_clustering(abstracts, cluster_results, cluster_tree, baseline)\n",
    "print('Baseline metrics:')\n",
    "print(pd.Series(baseline_metrics))"
   ]
  },
  {
   "cell_type": "markdown",
   "id": "ebe679ef",
   "metadata": {},
   "source": [
    "---\n",
    "## C) Compare & Visualize"
   ]
  },
  {
   "cell_type": "code",
   "execution_count": null,
   "id": "b081eb42",
   "metadata": {},
   "outputs": [],
   "source": [
    "# Tabulate\n",
    "df = pd.DataFrame([full_sem, baseline_metrics], index=['Semantic','Baseline'])\n",
    "df"
   ]
  },
  {
   "cell_type": "code",
   "execution_count": null,
   "id": "289da079",
   "metadata": {},
   "outputs": [],
   "source": [
    "# Plot silhouette\n",
    "import matplotlib.pyplot as plt\n",
    "plt.figure(figsize=(6,4))\n",
    "plt.bar(df.index, df['silhouette'])\n",
    "plt.ylabel('Silhouette Score')\n",
    "plt.title('Semantic vs Baseline')\n",
    "plt.show()"
   ]
  },
  {
   "cell_type": "code",
   "execution_count": 24,
   "id": "d1e0a228-e80d-469a-ba41-479d1c9b6add",
   "metadata": {},
   "outputs": [
    {
     "ename": "KeyboardInterrupt",
     "evalue": "",
     "output_type": "error",
     "traceback": [
      "\u001b[0;31m---------------------------------------------------------------------------\u001b[0m",
      "\u001b[0;31mKeyboardInterrupt\u001b[0m                         Traceback (most recent call last)",
      "Cell \u001b[0;32mIn[24], line 9\u001b[0m\n\u001b[1;32m      6\u001b[0m dist_fn \u001b[38;5;241m=\u001b[39m distance_func()\n\u001b[1;32m      8\u001b[0m \u001b[38;5;66;03m# 2) Build the n×n distance matrix on your instances\u001b[39;00m\n\u001b[0;32m----> 9\u001b[0m dist_mat \u001b[38;5;241m=\u001b[39m \u001b[43mcompute_distance_matrix\u001b[49m\u001b[43m(\u001b[49m\u001b[43mabstracts\u001b[49m\u001b[43m,\u001b[49m\u001b[43m \u001b[49m\u001b[43mdist_fn\u001b[49m\u001b[43m)\u001b[49m\n\u001b[1;32m     11\u001b[0m \u001b[38;5;66;03m# 3) Extract the flat cluster labels for each instance\u001b[39;00m\n\u001b[1;32m     12\u001b[0m labels \u001b[38;5;241m=\u001b[39m extract_labels_from_tree(cluster_tree, \u001b[38;5;28mlen\u001b[39m(abstracts))\n",
      "File \u001b[0;32m~/Documents/Clustering/flexible-clustering/webapp/clustering/evaluation_metrics.py:24\u001b[0m, in \u001b[0;36mcompute_distance_matrix\u001b[0;34m(abstracts, dist_func)\u001b[0m\n\u001b[1;32m     22\u001b[0m \u001b[38;5;28;01mfor\u001b[39;00m i \u001b[38;5;129;01min\u001b[39;00m \u001b[38;5;28mrange\u001b[39m(n):\n\u001b[1;32m     23\u001b[0m     \u001b[38;5;28;01mfor\u001b[39;00m j \u001b[38;5;129;01min\u001b[39;00m \u001b[38;5;28mrange\u001b[39m(i \u001b[38;5;241m+\u001b[39m \u001b[38;5;241m1\u001b[39m, n):\n\u001b[0;32m---> 24\u001b[0m         d \u001b[38;5;241m=\u001b[39m \u001b[43mdist_func\u001b[49m\u001b[43m(\u001b[49m\u001b[43mabstracts\u001b[49m\u001b[43m[\u001b[49m\u001b[43mi\u001b[49m\u001b[43m]\u001b[49m\u001b[43m,\u001b[49m\u001b[43m \u001b[49m\u001b[43mabstracts\u001b[49m\u001b[43m[\u001b[49m\u001b[43mj\u001b[49m\u001b[43m]\u001b[49m\u001b[43m)\u001b[49m\n\u001b[1;32m     25\u001b[0m         dist_mat[i, j] \u001b[38;5;241m=\u001b[39m d\n\u001b[1;32m     26\u001b[0m         dist_mat[j, i] \u001b[38;5;241m=\u001b[39m d\n",
      "File \u001b[0;32m~/Documents/Clustering/flexible-clustering/webapp/clustering/similarity.py:61\u001b[0m, in \u001b[0;36mdistance_func.<locals>.<lambda>\u001b[0;34m(x, y)\u001b[0m\n\u001b[1;32m     52\u001b[0m \u001b[38;5;28;01mdef\u001b[39;00m\u001b[38;5;250m \u001b[39m\u001b[38;5;21mdistance_func\u001b[39m():\n\u001b[1;32m     53\u001b[0m \u001b[38;5;250m    \u001b[39m\u001b[38;5;124;03m\"\"\"\u001b[39;00m\n\u001b[1;32m     54\u001b[0m \u001b[38;5;124;03m    Returns a lambda function that computes the distance between two abstracted command strings\u001b[39;00m\n\u001b[1;32m     55\u001b[0m \u001b[38;5;124;03m    using the global similarity matrix loaded at module-level.\u001b[39;00m\n\u001b[0;32m   (...)\u001b[0m\n\u001b[1;32m     58\u001b[0m \u001b[38;5;124;03m        Callable: A two-argument function (cmd1, cmd2) → distance (float).\u001b[39;00m\n\u001b[1;32m     59\u001b[0m \u001b[38;5;124;03m    \"\"\"\u001b[39;00m\n\u001b[0;32m---> 61\u001b[0m     \u001b[38;5;28;01mreturn\u001b[39;00m \u001b[38;5;28;01mlambda\u001b[39;00m x, y: \u001b[43mgeometric_distance\u001b[49m\u001b[43m(\u001b[49m\u001b[43mx\u001b[49m\u001b[43m,\u001b[49m\u001b[43m \u001b[49m\u001b[43my\u001b[49m\u001b[43m,\u001b[49m\u001b[43m \u001b[49m\u001b[43msimilarity_matrix\u001b[49m\u001b[43m)\u001b[49m\n",
      "File \u001b[0;32m~/Documents/Clustering/flexible-clustering/webapp/clustering/similarity.py:29\u001b[0m, in \u001b[0;36mgeometric_distance\u001b[0;34m(cmd1, cmd2, sim_matrix)\u001b[0m\n\u001b[1;32m     10\u001b[0m \u001b[38;5;28;01mdef\u001b[39;00m\u001b[38;5;250m \u001b[39m\u001b[38;5;21mgeometric_distance\u001b[39m(cmd1, cmd2, sim_matrix):\n\u001b[1;32m     11\u001b[0m \u001b[38;5;250m    \u001b[39m\u001b[38;5;124;03m\"\"\"\u001b[39;00m\n\u001b[1;32m     12\u001b[0m \u001b[38;5;124;03m    Computes a semantic distance between two abstracted command lines using geometric mean\u001b[39;00m\n\u001b[1;32m     13\u001b[0m \u001b[38;5;124;03m    of pairwise token similarities from a precomputed similarity matrix.\u001b[39;00m\n\u001b[0;32m   (...)\u001b[0m\n\u001b[1;32m     26\u001b[0m \u001b[38;5;124;03m        float: Distance in [0.0, 1.0], where 0 means highly similar, 1 means dissimilar.\u001b[39;00m\n\u001b[1;32m     27\u001b[0m \u001b[38;5;124;03m    \"\"\"\u001b[39;00m\n\u001b[0;32m---> 29\u001b[0m     \u001b[38;5;28;01mif\u001b[39;00m \u001b[43mis_pure_string\u001b[49m\u001b[43m(\u001b[49m\u001b[43mcmd1\u001b[49m\u001b[43m)\u001b[49m \u001b[38;5;129;01mor\u001b[39;00m is_pure_string(cmd2):\n\u001b[1;32m     30\u001b[0m         \u001b[38;5;28;01mreturn\u001b[39;00m \u001b[38;5;241m1.0\u001b[39m\n\u001b[1;32m     32\u001b[0m     units1 \u001b[38;5;241m=\u001b[39m group_commands_and_flags(cmd1\u001b[38;5;241m.\u001b[39mstrip())\n",
      "File \u001b[0;32m~/Documents/Clustering/flexible-clustering/webapp/clustering/preprocessing.py:124\u001b[0m, in \u001b[0;36mis_pure_string\u001b[0;34m(cmd)\u001b[0m\n\u001b[1;32m    113\u001b[0m \u001b[38;5;28;01mdef\u001b[39;00m\u001b[38;5;250m \u001b[39m\u001b[38;5;21mis_pure_string\u001b[39m(cmd):\n\u001b[1;32m    114\u001b[0m \u001b[38;5;250m    \u001b[39m\u001b[38;5;124;03m\"\"\"\u001b[39;00m\n\u001b[1;32m    115\u001b[0m \u001b[38;5;124;03m    Checks whether a given command line consists only of a single string payload (e.g., `echo \"hi\"`).\u001b[39;00m\n\u001b[1;32m    116\u001b[0m \n\u001b[0;32m   (...)\u001b[0m\n\u001b[1;32m    121\u001b[0m \u001b[38;5;124;03m        bool: True if the command is a single string abstraction, False otherwise.\u001b[39;00m\n\u001b[1;32m    122\u001b[0m \u001b[38;5;124;03m    \"\"\"\u001b[39;00m\n\u001b[0;32m--> 124\u001b[0m     abs_cmd \u001b[38;5;241m=\u001b[39m \u001b[43mabstract_command_line_substitution\u001b[49m\u001b[43m(\u001b[49m\u001b[43mcmd\u001b[49m\u001b[43m)\u001b[49m\u001b[38;5;241m.\u001b[39mstrip()\n\u001b[1;32m    125\u001b[0m     \u001b[38;5;28;01mreturn\u001b[39;00m abs_cmd\u001b[38;5;241m.\u001b[39mstartswith(\u001b[38;5;124m\"\u001b[39m\u001b[38;5;124mSTRING(\u001b[39m\u001b[38;5;124m\"\u001b[39m) \u001b[38;5;129;01mand\u001b[39;00m \u001b[38;5;124m\"\u001b[39m\u001b[38;5;124m \u001b[39m\u001b[38;5;124m\"\u001b[39m \u001b[38;5;129;01mnot\u001b[39;00m \u001b[38;5;129;01min\u001b[39;00m abs_cmd\n",
      "File \u001b[0;32m~/Documents/Clustering/flexible-clustering/webapp/clustering/preprocessing.py:72\u001b[0m, in \u001b[0;36mabstract_command_line_substitution\u001b[0;34m(cmd_line)\u001b[0m\n\u001b[1;32m     70\u001b[0m             new_parts\u001b[38;5;241m.\u001b[39mappend(\u001b[38;5;124m\"\u001b[39m\u001b[38;5;124mecho STRING(\u001b[39m\u001b[38;5;132;01m{}\u001b[39;00m\u001b[38;5;124m)\u001b[39m\u001b[38;5;124m\"\u001b[39m\u001b[38;5;241m.\u001b[39mformat(\u001b[38;5;28mlen\u001b[39m(payload)))\n\u001b[1;32m     71\u001b[0m         \u001b[38;5;28;01melse\u001b[39;00m:\n\u001b[0;32m---> 72\u001b[0m             types \u001b[38;5;241m=\u001b[39m [classify_argument(t)[\u001b[38;5;124m'\u001b[39m\u001b[38;5;124mtype\u001b[39m\u001b[38;5;124m'\u001b[39m] \u001b[38;5;28;01mfor\u001b[39;00m t \u001b[38;5;129;01min\u001b[39;00m tokens]\n\u001b[1;32m     73\u001b[0m             new_parts\u001b[38;5;241m.\u001b[39mappend(\u001b[38;5;124m\"\u001b[39m\u001b[38;5;124m \u001b[39m\u001b[38;5;124m\"\u001b[39m\u001b[38;5;241m.\u001b[39mjoin(types))\n\u001b[1;32m     74\u001b[0m \u001b[38;5;28;01mreturn\u001b[39;00m \u001b[38;5;124m\"\u001b[39m\u001b[38;5;124m \u001b[39m\u001b[38;5;124m\"\u001b[39m\u001b[38;5;241m.\u001b[39mjoin(new_parts)\n",
      "File \u001b[0;32m~/Documents/Clustering/flexible-clustering/webapp/clustering/preprocessing.py:72\u001b[0m, in \u001b[0;36m<listcomp>\u001b[0;34m(.0)\u001b[0m\n\u001b[1;32m     70\u001b[0m             new_parts\u001b[38;5;241m.\u001b[39mappend(\u001b[38;5;124m\"\u001b[39m\u001b[38;5;124mecho STRING(\u001b[39m\u001b[38;5;132;01m{}\u001b[39;00m\u001b[38;5;124m)\u001b[39m\u001b[38;5;124m\"\u001b[39m\u001b[38;5;241m.\u001b[39mformat(\u001b[38;5;28mlen\u001b[39m(payload)))\n\u001b[1;32m     71\u001b[0m         \u001b[38;5;28;01melse\u001b[39;00m:\n\u001b[0;32m---> 72\u001b[0m             types \u001b[38;5;241m=\u001b[39m [\u001b[43mclassify_argument\u001b[49m\u001b[43m(\u001b[49m\u001b[43mt\u001b[49m\u001b[43m)\u001b[49m[\u001b[38;5;124m'\u001b[39m\u001b[38;5;124mtype\u001b[39m\u001b[38;5;124m'\u001b[39m] \u001b[38;5;28;01mfor\u001b[39;00m t \u001b[38;5;129;01min\u001b[39;00m tokens]\n\u001b[1;32m     73\u001b[0m             new_parts\u001b[38;5;241m.\u001b[39mappend(\u001b[38;5;124m\"\u001b[39m\u001b[38;5;124m \u001b[39m\u001b[38;5;124m\"\u001b[39m\u001b[38;5;241m.\u001b[39mjoin(types))\n\u001b[1;32m     74\u001b[0m \u001b[38;5;28;01mreturn\u001b[39;00m \u001b[38;5;124m\"\u001b[39m\u001b[38;5;124m \u001b[39m\u001b[38;5;124m\"\u001b[39m\u001b[38;5;241m.\u001b[39mjoin(new_parts)\n",
      "File \u001b[0;32m~/Documents/Clustering/flexible-clustering/webapp/clustering/preprocessing.py:39\u001b[0m, in \u001b[0;36mclassify_argument\u001b[0;34m(arg)\u001b[0m\n\u001b[1;32m     37\u001b[0m \u001b[38;5;28;01mif\u001b[39;00m arg\u001b[38;5;241m.\u001b[39mstartswith(\u001b[38;5;124m'\u001b[39m\u001b[38;5;124m-\u001b[39m\u001b[38;5;124m'\u001b[39m):\n\u001b[1;32m     38\u001b[0m     \u001b[38;5;28;01mreturn\u001b[39;00m {\u001b[38;5;124m'\u001b[39m\u001b[38;5;124mtype\u001b[39m\u001b[38;5;124m'\u001b[39m: arg, \u001b[38;5;124m'\u001b[39m\u001b[38;5;124mvalue\u001b[39m\u001b[38;5;124m'\u001b[39m: arg}\n\u001b[0;32m---> 39\u001b[0m \u001b[38;5;28;01mif\u001b[39;00m \u001b[38;5;124m'\u001b[39m\u001b[38;5;124m.\u001b[39m\u001b[38;5;124m'\u001b[39m \u001b[38;5;129;01min\u001b[39;00m arg:\n\u001b[1;32m     40\u001b[0m     \u001b[38;5;28;01mreturn\u001b[39;00m {\u001b[38;5;124m'\u001b[39m\u001b[38;5;124mtype\u001b[39m\u001b[38;5;124m'\u001b[39m: \u001b[38;5;124m'\u001b[39m\u001b[38;5;124mFILE\u001b[39m\u001b[38;5;124m'\u001b[39m, \u001b[38;5;124m'\u001b[39m\u001b[38;5;124mvalue\u001b[39m\u001b[38;5;124m'\u001b[39m: arg}\n\u001b[1;32m     41\u001b[0m \u001b[38;5;28;01mreturn\u001b[39;00m {\u001b[38;5;124m'\u001b[39m\u001b[38;5;124mtype\u001b[39m\u001b[38;5;124m'\u001b[39m: \u001b[38;5;124m'\u001b[39m\u001b[38;5;124mSTRING\u001b[39m\u001b[38;5;124m'\u001b[39m, \u001b[38;5;124m'\u001b[39m\u001b[38;5;124mvalue\u001b[39m\u001b[38;5;124m'\u001b[39m: arg}\n",
      "\u001b[0;31mKeyboardInterrupt\u001b[0m: "
     ]
    }
   ],
   "source": [
    "from clustering.similarity       import distance_func\n",
    "from clustering.evaluation_metrics import compute_distance_matrix, extract_labels_from_tree\n",
    "from sklearn.metrics             import silhouette_score\n",
    "\n",
    "# 1) Get the semantic distance function that wraps your UpdatedSimilarity.csv\n",
    "dist_fn = distance_func()\n",
    "\n",
    "# 2) Build the n×n distance matrix on your instances\n",
    "dist_mat = compute_distance_matrix(abstracts, dist_fn)\n",
    "\n",
    "# 3) Extract the flat cluster labels for each instance\n",
    "labels = extract_labels_from_tree(cluster_tree, len(abstracts))\n",
    "\n",
    "# 4) Compute silhouette with your precomputed semantic distances\n",
    "sil = silhouette_score(dist_mat, labels, metric=\"precomputed\")\n",
    "print(f\"Silhouette (semantic): {sil:.4f}\")\n"
   ]
  },
  {
   "cell_type": "code",
   "execution_count": null,
   "id": "cc3f5a85-2d51-4af3-944c-dea7b5daf175",
   "metadata": {},
   "outputs": [],
   "source": []
  }
 ],
 "metadata": {
  "kernelspec": {
   "display_name": "Python 3 (ipykernel)",
   "language": "python",
   "name": "python3"
  },
  "language_info": {
   "codemirror_mode": {
    "name": "ipython",
    "version": 3
   },
   "file_extension": ".py",
   "mimetype": "text/x-python",
   "name": "python",
   "nbconvert_exporter": "python",
   "pygments_lexer": "ipython3",
   "version": "3.10.12"
  }
 },
 "nbformat": 4,
 "nbformat_minor": 5
}
