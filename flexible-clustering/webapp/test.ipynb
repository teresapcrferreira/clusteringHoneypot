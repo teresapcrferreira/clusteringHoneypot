{
 "cells": [
  {
   "cell_type": "markdown",
   "id": "df24232c",
   "metadata": {},
   "source": [
    "# RQ1 Evaluation Notebook\n",
    "\n",
    "Internal clustering metrics (silhouette, tree‐structure, entropy) using:\n",
    "- Semantic similarity (via distance_func wrapping UpdatedSimilarity.csv)\n",
    "- Baseline (Levenshtein)"
   ]
  },
  {
   "cell_type": "code",
   "execution_count": 1,
   "id": "08d4fbe5",
   "metadata": {},
   "outputs": [
    {
     "name": "stdout",
     "output_type": "stream",
     "text": [
      "Added to PYTHONPATH: /home/tferreira/Documents/Clustering/flexible-clustering/webapp/webapp\n"
     ]
    }
   ],
   "source": [
    "# 1) Setup path to include webapp/ as a package\n",
    "import sys, os\n",
    "project_root = os.getcwd()\n",
    "sys.path.insert(0, os.path.join(project_root, 'webapp'))\n",
    "print('Added to PYTHONPATH:', sys.path[0])"
   ]
  },
  {
   "cell_type": "code",
   "execution_count": 6,
   "id": "0ec13732",
   "metadata": {},
   "outputs": [],
   "source": [
    "# 2) Imports\n",
    "from clustering.clustering_algorithms import run_clustering, filtered_commands_global,fetch_cowrie_data\n",
    "from clustering.preprocessing import abstract_command_line_substitution,is_real_command\n",
    "from clustering.similarity import distance_func\n",
    "from clustering.evaluation_metrics import (compute_distance_matrix, extract_labels_from_tree, compute_tree_metrics, compute_purpose_entropy)\n",
    "from sklearn.metrics import silhouette_score\n",
    "import pandas as pd, numpy as np"
   ]
  },
  {
   "cell_type": "code",
   "execution_count": 7,
   "id": "17c42c81",
   "metadata": {},
   "outputs": [
    {
     "name": "stdout",
     "output_type": "stream",
     "text": [
      "Clustered 9875 commands.\n"
     ]
    }
   ],
   "source": [
    "# 3) Run your clustering pipeline\n",
    "cluster_results, cluster_tree = run_clustering(size=10000)  # adjust for speed\n",
    "df = fetch_cowrie_data(honeypot_type=\"cowrie\", from_date=\"2021-04-08T00:00:00.000Z\", to_date=\"2025-04-08T00:00:00.000Z\", size=10000)\n",
    "df = df[df['input'].notna()]\n",
    "commands = df['input'].values\n",
    "filtered_commands = [(i, cmd) for i, cmd in enumerate(commands) if is_real_command(cmd)]\n",
    "abstracts = [abstract_command_line_substitution(cmd) for _, cmd in filtered_commands]\n",
    "print(f'Clustered {len(abstracts)} commands.')"
   ]
  },
  {
   "cell_type": "markdown",
   "id": "cf94fdb0",
   "metadata": {},
   "source": [
    "---\n",
    "## A) Semantic silhouette via distance_func\n",
    "Using your UpdatedSimilarity.csv under the hood"
   ]
  },
  {
   "cell_type": "code",
   "execution_count": 8,
   "id": "b994157a",
   "metadata": {},
   "outputs": [
    {
     "ename": "KeyboardInterrupt",
     "evalue": "",
     "output_type": "error",
     "traceback": [
      "\u001b[0;31m---------------------------------------------------------------------------\u001b[0m",
      "\u001b[0;31mKeyboardInterrupt\u001b[0m                         Traceback (most recent call last)",
      "Cell \u001b[0;32mIn[8], line 3\u001b[0m\n\u001b[1;32m      1\u001b[0m \u001b[38;5;66;03m# build distance matrix via distance_func\u001b[39;00m\n\u001b[1;32m      2\u001b[0m dist_fn \u001b[38;5;241m=\u001b[39m distance_func()\n\u001b[0;32m----> 3\u001b[0m dist_mat \u001b[38;5;241m=\u001b[39m \u001b[43mcompute_distance_matrix\u001b[49m\u001b[43m(\u001b[49m\u001b[43mabstracts\u001b[49m\u001b[43m,\u001b[49m\u001b[43m \u001b[49m\u001b[43mdist_fn\u001b[49m\u001b[43m)\u001b[49m  \u001b[38;5;66;03m# n×n\u001b[39;00m\n\u001b[1;32m      4\u001b[0m \u001b[38;5;28mprint\u001b[39m(\u001b[38;5;124m'\u001b[39m\u001b[38;5;124mDistance matrix shape:\u001b[39m\u001b[38;5;124m'\u001b[39m, dist_mat\u001b[38;5;241m.\u001b[39mshape)\n\u001b[1;32m      5\u001b[0m \u001b[38;5;66;03m# extract labels\u001b[39;00m\n",
      "File \u001b[0;32m~/Documents/Clustering/flexible-clustering/webapp/clustering/evaluation_metrics.py:24\u001b[0m, in \u001b[0;36mcompute_distance_matrix\u001b[0;34m(abstracts, dist_func)\u001b[0m\n\u001b[1;32m     22\u001b[0m \u001b[38;5;28;01mfor\u001b[39;00m i \u001b[38;5;129;01min\u001b[39;00m \u001b[38;5;28mrange\u001b[39m(n):\n\u001b[1;32m     23\u001b[0m     \u001b[38;5;28;01mfor\u001b[39;00m j \u001b[38;5;129;01min\u001b[39;00m \u001b[38;5;28mrange\u001b[39m(i \u001b[38;5;241m+\u001b[39m \u001b[38;5;241m1\u001b[39m, n):\n\u001b[0;32m---> 24\u001b[0m         d \u001b[38;5;241m=\u001b[39m \u001b[43mdist_func\u001b[49m\u001b[43m(\u001b[49m\u001b[43mabstracts\u001b[49m\u001b[43m[\u001b[49m\u001b[43mi\u001b[49m\u001b[43m]\u001b[49m\u001b[43m,\u001b[49m\u001b[43m \u001b[49m\u001b[43mabstracts\u001b[49m\u001b[43m[\u001b[49m\u001b[43mj\u001b[49m\u001b[43m]\u001b[49m\u001b[43m)\u001b[49m\n\u001b[1;32m     25\u001b[0m         dist_mat[i, j] \u001b[38;5;241m=\u001b[39m d\n\u001b[1;32m     26\u001b[0m         dist_mat[j, i] \u001b[38;5;241m=\u001b[39m d\n",
      "File \u001b[0;32m~/Documents/Clustering/flexible-clustering/webapp/clustering/similarity.py:61\u001b[0m, in \u001b[0;36mdistance_func.<locals>.<lambda>\u001b[0;34m(x, y)\u001b[0m\n\u001b[1;32m     52\u001b[0m \u001b[38;5;28;01mdef\u001b[39;00m\u001b[38;5;250m \u001b[39m\u001b[38;5;21mdistance_func\u001b[39m():\n\u001b[1;32m     53\u001b[0m \u001b[38;5;250m    \u001b[39m\u001b[38;5;124;03m\"\"\"\u001b[39;00m\n\u001b[1;32m     54\u001b[0m \u001b[38;5;124;03m    Returns a lambda function that computes the distance between two abstracted command strings\u001b[39;00m\n\u001b[1;32m     55\u001b[0m \u001b[38;5;124;03m    using the global similarity matrix loaded at module-level.\u001b[39;00m\n\u001b[0;32m   (...)\u001b[0m\n\u001b[1;32m     58\u001b[0m \u001b[38;5;124;03m        Callable: A two-argument function (cmd1, cmd2) → distance (float).\u001b[39;00m\n\u001b[1;32m     59\u001b[0m \u001b[38;5;124;03m    \"\"\"\u001b[39;00m\n\u001b[0;32m---> 61\u001b[0m     \u001b[38;5;28;01mreturn\u001b[39;00m \u001b[38;5;28;01mlambda\u001b[39;00m x, y: \u001b[43mgeometric_distance\u001b[49m\u001b[43m(\u001b[49m\u001b[43mx\u001b[49m\u001b[43m,\u001b[49m\u001b[43m \u001b[49m\u001b[43my\u001b[49m\u001b[43m,\u001b[49m\u001b[43m \u001b[49m\u001b[43msimilarity_matrix\u001b[49m\u001b[43m)\u001b[49m\n",
      "File \u001b[0;32m~/Documents/Clustering/flexible-clustering/webapp/clustering/similarity.py:33\u001b[0m, in \u001b[0;36mgeometric_distance\u001b[0;34m(cmd1, cmd2, sim_matrix)\u001b[0m\n\u001b[1;32m     30\u001b[0m     \u001b[38;5;28;01mreturn\u001b[39;00m \u001b[38;5;241m1.0\u001b[39m\n\u001b[1;32m     32\u001b[0m units1 \u001b[38;5;241m=\u001b[39m group_commands_and_flags(cmd1\u001b[38;5;241m.\u001b[39mstrip())\n\u001b[0;32m---> 33\u001b[0m units2 \u001b[38;5;241m=\u001b[39m \u001b[43mgroup_commands_and_flags\u001b[49m\u001b[43m(\u001b[49m\u001b[43mcmd2\u001b[49m\u001b[38;5;241;43m.\u001b[39;49m\u001b[43mstrip\u001b[49m\u001b[43m(\u001b[49m\u001b[43m)\u001b[49m\u001b[43m)\u001b[49m\n\u001b[1;32m     34\u001b[0m n \u001b[38;5;241m=\u001b[39m \u001b[38;5;28mmin\u001b[39m(\u001b[38;5;28mlen\u001b[39m(units1), \u001b[38;5;28mlen\u001b[39m(units2))\n\u001b[1;32m     35\u001b[0m sims \u001b[38;5;241m=\u001b[39m []\n",
      "File \u001b[0;32m~/Documents/Clustering/flexible-clustering/webapp/clustering/preprocessing.py:92\u001b[0m, in \u001b[0;36mgroup_commands_and_flags\u001b[0;34m(abstract_cmd)\u001b[0m\n\u001b[1;32m     90\u001b[0m grouped \u001b[38;5;241m=\u001b[39m []\n\u001b[1;32m     91\u001b[0m \u001b[38;5;28;01mfor\u001b[39;00m i, token \u001b[38;5;129;01min\u001b[39;00m \u001b[38;5;28menumerate\u001b[39m(tokens):\n\u001b[0;32m---> 92\u001b[0m     \u001b[38;5;28;01mif\u001b[39;00m \u001b[43mclassify_argument\u001b[49m\u001b[43m(\u001b[49m\u001b[43mtoken\u001b[49m\u001b[43m)\u001b[49m[\u001b[38;5;124m'\u001b[39m\u001b[38;5;124mtype\u001b[39m\u001b[38;5;124m'\u001b[39m] \u001b[38;5;241m==\u001b[39m \u001b[38;5;124m'\u001b[39m\u001b[38;5;124mOPERATOR\u001b[39m\u001b[38;5;124m'\u001b[39m:\n\u001b[1;32m     93\u001b[0m         \u001b[38;5;28;01mcontinue\u001b[39;00m\n\u001b[1;32m     94\u001b[0m     \u001b[38;5;28;01mif\u001b[39;00m token\u001b[38;5;241m.\u001b[39mstartswith(\u001b[38;5;124m'\u001b[39m\u001b[38;5;124m-\u001b[39m\u001b[38;5;124m'\u001b[39m) \u001b[38;5;129;01mand\u001b[39;00m i \u001b[38;5;241m>\u001b[39m \u001b[38;5;241m0\u001b[39m:\n",
      "File \u001b[0;32m~/Documents/Clustering/flexible-clustering/webapp/clustering/preprocessing.py:27\u001b[0m, in \u001b[0;36mclassify_argument\u001b[0;34m(arg)\u001b[0m\n\u001b[1;32m     25\u001b[0m \u001b[38;5;28;01mif\u001b[39;00m arg \u001b[38;5;129;01min\u001b[39;00m OPERATORS:\n\u001b[1;32m     26\u001b[0m     \u001b[38;5;28;01mreturn\u001b[39;00m {\u001b[38;5;124m'\u001b[39m\u001b[38;5;124mtype\u001b[39m\u001b[38;5;124m'\u001b[39m: \u001b[38;5;124m'\u001b[39m\u001b[38;5;124mOPERATOR\u001b[39m\u001b[38;5;124m'\u001b[39m, \u001b[38;5;124m'\u001b[39m\u001b[38;5;124mvalue\u001b[39m\u001b[38;5;124m'\u001b[39m: arg}\n\u001b[0;32m---> 27\u001b[0m \u001b[38;5;28;01mif\u001b[39;00m \u001b[43mre\u001b[49m\u001b[38;5;241;43m.\u001b[39;49m\u001b[43mmatch\u001b[49m\u001b[43m(\u001b[49m\u001b[38;5;124;43mr\u001b[39;49m\u001b[38;5;124;43m'\u001b[39;49m\u001b[38;5;124;43m^https://\u001b[39;49m\u001b[38;5;124;43m'\u001b[39;49m\u001b[43m,\u001b[49m\u001b[43m \u001b[49m\u001b[43marg\u001b[49m\u001b[43m,\u001b[49m\u001b[43m \u001b[49m\u001b[43mre\u001b[49m\u001b[38;5;241;43m.\u001b[39;49m\u001b[43mIGNORECASE\u001b[49m\u001b[43m)\u001b[49m:\n\u001b[1;32m     28\u001b[0m     \u001b[38;5;28;01mreturn\u001b[39;00m {\u001b[38;5;124m'\u001b[39m\u001b[38;5;124mtype\u001b[39m\u001b[38;5;124m'\u001b[39m: \u001b[38;5;124m'\u001b[39m\u001b[38;5;124mSECURE_URL\u001b[39m\u001b[38;5;124m'\u001b[39m, \u001b[38;5;124m'\u001b[39m\u001b[38;5;124mvalue\u001b[39m\u001b[38;5;124m'\u001b[39m: arg}\n\u001b[1;32m     29\u001b[0m \u001b[38;5;28;01mif\u001b[39;00m re\u001b[38;5;241m.\u001b[39mmatch(\u001b[38;5;124mr\u001b[39m\u001b[38;5;124m'\u001b[39m\u001b[38;5;124m^http://\u001b[39m\u001b[38;5;124m'\u001b[39m, arg, re\u001b[38;5;241m.\u001b[39mIGNORECASE):\n",
      "File \u001b[0;32m/usr/lib/python3.10/re.py:190\u001b[0m, in \u001b[0;36mmatch\u001b[0;34m(pattern, string, flags)\u001b[0m\n\u001b[1;32m    187\u001b[0m \u001b[38;5;28;01mdef\u001b[39;00m\u001b[38;5;250m \u001b[39m\u001b[38;5;21mmatch\u001b[39m(pattern, string, flags\u001b[38;5;241m=\u001b[39m\u001b[38;5;241m0\u001b[39m):\n\u001b[1;32m    188\u001b[0m \u001b[38;5;250m    \u001b[39m\u001b[38;5;124;03m\"\"\"Try to apply the pattern at the start of the string, returning\u001b[39;00m\n\u001b[1;32m    189\u001b[0m \u001b[38;5;124;03m    a Match object, or None if no match was found.\"\"\"\u001b[39;00m\n\u001b[0;32m--> 190\u001b[0m     \u001b[38;5;28;01mreturn\u001b[39;00m \u001b[43m_compile\u001b[49m\u001b[43m(\u001b[49m\u001b[43mpattern\u001b[49m\u001b[43m,\u001b[49m\u001b[43m \u001b[49m\u001b[43mflags\u001b[49m\u001b[43m)\u001b[49m\u001b[38;5;241m.\u001b[39mmatch(string)\n",
      "\u001b[0;31mKeyboardInterrupt\u001b[0m: "
     ]
    }
   ],
   "source": [
    "# build distance matrix via distance_func\n",
    "dist_fn = distance_func()\n",
    "dist_mat = compute_distance_matrix(abstracts, dist_fn)  # n×n\n",
    "print('Distance matrix shape:', dist_mat.shape)\n",
    "# extract labels\n",
    "labels = extract_labels_from_tree(cluster_tree, len(abstracts))\n",
    "# silhouette with precomputed distances\n",
    "sil_sem = silhouette_score(dist_mat, labels, metric='precomputed')\n",
    "print(f'Silhouette (semantic): {sil_sem:.4f}')\n",
    "# other metrics\n",
    "tree_m = compute_tree_metrics(cluster_tree)\n",
    "entropy_m = compute_purpose_entropy(cluster_results)\n",
    "print('Tree metrics:', tree_m)\n",
    "print('Entropy metrics:', entropy_m)"
   ]
  },
  {
   "cell_type": "markdown",
   "id": "8bba28b3",
   "metadata": {},
   "source": [
    "---\n",
    "## B) Full pipeline via evaluate_clustering"
   ]
  },
  {
   "cell_type": "code",
   "execution_count": null,
   "id": "baeba971",
   "metadata": {},
   "outputs": [],
   "source": [
    "# semantic metrics\n",
    "full_sem = evaluate_clustering(abstracts, cluster_results, cluster_tree, distance_func())\n",
    "print('Semantic metrics (wrapped):')\n",
    "print(pd.Series(full_sem))"
   ]
  },
  {
   "cell_type": "code",
   "execution_count": null,
   "id": "3553f82e",
   "metadata": {},
   "outputs": [],
   "source": [
    "# baseline Levenshtein metrics\n",
    "!pip install python-Levenshtein\n",
    "from Levenshtein import distance as lev_dist\n",
    "baseline = lambda a,b: lev_dist(a,b)/max(len(a),len(b),1)\n",
    "base_metrics = evaluate_clustering(abstracts, cluster_results, cluster_tree, baseline)\n",
    "print('Baseline metrics:')\n",
    "print(pd.Series(base_metrics))"
   ]
  },
  {
   "cell_type": "markdown",
   "id": "8437f606",
   "metadata": {},
   "source": [
    "---\n",
    "## C) Compare results"
   ]
  },
  {
   "cell_type": "code",
   "execution_count": null,
   "id": "0da61c97",
   "metadata": {},
   "outputs": [],
   "source": [
    "# tabulate comparisons\n",
    "df = pd.DataFrame([full_sem, base_metrics], index=['Semantic','Baseline'])\n",
    "df"
   ]
  },
  {
   "cell_type": "code",
   "execution_count": null,
   "id": "9fe4383e",
   "metadata": {},
   "outputs": [],
   "source": [
    "# plot silhouette only\n",
    "import matplotlib.pyplot as plt\n",
    "plt.figure(figsize=(6,4))\n",
    "plt.bar(df.index, df['silhouette'])\n",
    "plt.ylabel('Silhouette Score')\n",
    "plt.title('Semantic vs Baseline')\n",
    "plt.show()"
   ]
  }
 ],
 "metadata": {
  "kernelspec": {
   "display_name": "Python 3 (ipykernel)",
   "language": "python",
   "name": "python3"
  },
  "language_info": {
   "codemirror_mode": {
    "name": "ipython",
    "version": 3
   },
   "file_extension": ".py",
   "mimetype": "text/x-python",
   "name": "python",
   "nbconvert_exporter": "python",
   "pygments_lexer": "ipython3",
   "version": "3.10.12"
  }
 },
 "nbformat": 4,
 "nbformat_minor": 5
}
